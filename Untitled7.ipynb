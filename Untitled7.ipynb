{
  "nbformat": 4,
  "nbformat_minor": 0,
  "metadata": {
    "colab": {
      "provenance": [],
      "authorship_tag": "ABX9TyP0VkPrCdXNCoYicJDrfa8M",
      "include_colab_link": true
    },
    "kernelspec": {
      "name": "python3",
      "display_name": "Python 3"
    },
    "language_info": {
      "name": "python"
    }
  },
  "cells": [
    {
      "cell_type": "markdown",
      "metadata": {
        "id": "view-in-github",
        "colab_type": "text"
      },
      "source": [
        "<a href=\"https://colab.research.google.com/github/DarthAether/python_list/blob/main/Untitled7.ipynb\" target=\"_parent\"><img src=\"https://colab.research.google.com/assets/colab-badge.svg\" alt=\"Open In Colab\"/></a>"
      ]
    },
    {
      "cell_type": "code",
      "execution_count": 1,
      "metadata": {
        "colab": {
          "base_uri": "https://localhost:8080/"
        },
        "id": "VBt22bghRn6X",
        "outputId": "ab326f34-0892-4baf-8f43-211a016302da"
      },
      "outputs": [
        {
          "output_type": "stream",
          "name": "stdout",
          "text": [
            "Collecting pypdf2\n",
            "  Downloading pypdf2-3.0.1-py3-none-any.whl.metadata (6.8 kB)\n",
            "Downloading pypdf2-3.0.1-py3-none-any.whl (232 kB)\n",
            "\u001b[?25l   \u001b[90m━━━━━━━━━━━━━━━━━━━━━━━━━━━━━━━━━━━━━━━━\u001b[0m \u001b[32m0.0/232.6 kB\u001b[0m \u001b[31m?\u001b[0m eta \u001b[36m-:--:--\u001b[0m\r\u001b[2K   \u001b[90m━━━━━━━━━━━━━━━━━━━━━━━━━━━━━━━━━━━━━━━━\u001b[0m \u001b[32m232.6/232.6 kB\u001b[0m \u001b[31m11.4 MB/s\u001b[0m eta \u001b[36m0:00:00\u001b[0m\n",
            "\u001b[?25hInstalling collected packages: pypdf2\n",
            "Successfully installed pypdf2-3.0.1\n"
          ]
        }
      ],
      "source": [
        "!pip install pypdf2"
      ]
    },
    {
      "cell_type": "code",
      "source": [
        "import PyPDF2\n",
        "\n",
        "pdf = open(\"file1.pdf\",\"rb\")\n",
        "\n",
        "pdf_reader = PyPDF2.PdfReader(pdf)\n",
        "\n",
        "print(\"Number of pages:\", len(pdf_reader.pages))\n",
        "\n",
        "page = pdf_reader.pages [1]\n",
        "\n",
        "print(page.extract_text())\n",
        "\n",
        "pdf.close( )"
      ],
      "metadata": {
        "colab": {
          "base_uri": "https://localhost:8080/"
        },
        "id": "DCSP3lOsRrGG",
        "outputId": "4a542542-3d89-4edf-c153-a2e6960c5832"
      },
      "execution_count": 4,
      "outputs": [
        {
          "output_type": "stream",
          "name": "stdout",
          "text": [
            "Number of pages: 35\n",
            " \n",
            " \n",
            " Development  Plan for Greater Mumbai 2014‐2034                                                                                                                                                                                                                                                      \n",
            "Acknowledgements  \n",
            "The Consultant  wishes to thank the following  individuals  from the Municipal  Corporation  of \n",
            "Greater Mumbai for their invaluable  support, insights and contributions  towards ‘Working  Paper 1 \n",
            "– Preparation  of Base Map’ for the preparation  of the Development  Plan for Greater Mumbai \n",
            "2014‐34. \n",
            " Mr. Subodh Kumar, IAS, Municipal  Commissioner;  \n",
            " Mr. Rajeev Kuknoor, Chief Engineer Development  Plan; \n",
            " Mr. Sudhir Ghate, Deputy Chief Engineer Development  Plan; \n",
            " Mr. A.G. Marathe, Deputy Chief Engineer Development  Plan; \n",
            " Mr. R. Balachandran,  Executive  Engineer and Town Planning Officer, Development  Plan. \n",
            " Our gratitude  to the following  experts for their invaluable  insights and support: \n",
            " \n",
            "Mr. V.K Phatak, Former Chief Town Planner (MMRDA);  \n",
            " Mr. A.N Kale, Former Chief Engineer, (DP); \n",
            " Mr. A. S Jain Former Dy. Chief Engineer, (DP). \n",
            " We wish to especially  thank MCGM officers, Mr. Jagdish Talreja, Mr. Dinesh Naik, Mr. Hiren \n",
            "Daftardar,  Ms. Anita Naik for their continual  support since the\n",
            " beginning  of the project and their \n",
            "help towards familiarization  and data collection.  They have been instrumental  in helping to \n",
            "contact various MCGM departments  as well as in helping to establish contact with personnel  from \n",
            "other government  departments  and organizations.  Many thanks for the MCGM team, for \n",
            "deploying  personnel,  particularly  Mr. Prasad Gharat, on extensive  field visits that have helped in \n",
            "understanding  actual ground conditions.  \n",
            " \n",
            "We apologize  if we have inadvertently  omitted anyone to whom acknowledgement  is due. We hope \n",
            "and anticipate  the work's usefulness  for the intended purpose. \n",
            " \n"
          ]
        }
      ]
    },
    {
      "cell_type": "code",
      "source": [
        "import PyPDF2, urllib.request, nltk\n",
        "from io import BytesIO\n",
        "from nltk.tokenize import word_tokenize\n",
        "from nltk.corpus import stopwords\n",
        "\n",
        "nltk.download('punkt')\n",
        "nltk.download('stopwords')\n",
        "\n",
        "url = 'http://www.udri.org/pdf/02%20working%20paper%201.pdf'\n",
        "wFile = urllib.request.urlopen(url)\n",
        "pdfreader = PyPDF2.PdfReader(BytesIO(wFile.read()))\n",
        "\n",
        "\n",
        "first_page = pdfreader.pages[0]\n",
        "text = first_page.extract_text()\n",
        "print(text)\n"
      ],
      "metadata": {
        "colab": {
          "base_uri": "https://localhost:8080/"
        },
        "id": "cBaroBt1S0AP",
        "outputId": "915d3895-02fd-4409-c990-2a60b82c084f"
      },
      "execution_count": 9,
      "outputs": [
        {
          "output_type": "stream",
          "name": "stdout",
          "text": [
            "Requirement already satisfied: PyPDF2 in /usr/local/lib/python3.11/dist-packages (3.0.1)\n",
            "Requirement already satisfied: nltk in /usr/local/lib/python3.11/dist-packages (3.9.1)\n",
            "Requirement already satisfied: click in /usr/local/lib/python3.11/dist-packages (from nltk) (8.1.8)\n",
            "Requirement already satisfied: joblib in /usr/local/lib/python3.11/dist-packages (from nltk) (1.4.2)\n",
            "Requirement already satisfied: regex>=2021.8.3 in /usr/local/lib/python3.11/dist-packages (from nltk) (2024.11.6)\n",
            "Requirement already satisfied: tqdm in /usr/local/lib/python3.11/dist-packages (from nltk) (4.67.1)\n"
          ]
        },
        {
          "output_type": "stream",
          "name": "stderr",
          "text": [
            "[nltk_data] Downloading package punkt to /root/nltk_data...\n",
            "[nltk_data]   Unzipping tokenizers/punkt.zip.\n",
            "[nltk_data] Downloading package stopwords to /root/nltk_data...\n",
            "[nltk_data]   Unzipping corpora/stopwords.zip.\n"
          ]
        },
        {
          "output_type": "stream",
          "name": "stdout",
          "text": [
            " \n",
            " \n",
            " Development  Plan for Greater Mumbai 2014‐2034    \n",
            "\n"
          ]
        }
      ]
    },
    {
      "cell_type": "code",
      "source": [
        "import string\n",
        "\n",
        "page_obj = pdfreader.pages[2]\n",
        "page2 = page_obj.extract_text()\n",
        "\n",
        "punctuations = list(string.punctuation)\n",
        "nltk.download('punkt_tab')\n",
        "tokens = word_tokenize(page2)\n",
        "stop_words = stopwords.words('english')\n",
        "\n",
        "keywords = [word for word in tokens if word.lower() not in stop_words and word not in punctuations]\n",
        "\n",
        "print(keywords)\n"
      ],
      "metadata": {
        "colab": {
          "base_uri": "https://localhost:8080/"
        },
        "id": "1dpT6FVGVk6P",
        "outputId": "ae84a935-8be8-4515-ecbe-f7bf6e9f56ac"
      },
      "execution_count": 12,
      "outputs": [
        {
          "output_type": "stream",
          "name": "stdout",
          "text": [
            "['Development', 'Plan', 'Greater', 'Mumbai', '2014‐2034', 'Table', 'Contents', 'Consultant', 'wishes', 'thank', 'following', 'individuals', 'Municipal', 'Corporation', 'Greater', 'Mumbai', 'invaluable', 'support', 'insights', 'contributions', 'towards', '‘', 'Working', 'Paper', '1', '–', 'Preparation', 'Base', 'Map', '’', 'preparation', 'Development', 'Plan', 'Greater', 'Mumbai', '2014‐34', '.............................................................................................................................', '..............', '3', 'gratitude', 'following', 'experts', 'invaluable', 'insights', 'support', '............................', '3', 'wish', 'especially', 'thank', 'MCGM', 'officers', 'Mr.', 'Jagdish', 'Talreja', 'Mr.', 'Dinesh', 'Naik', 'Mr.', 'Hiren', 'Daftardar', 'Ms.', 'Anita', 'Naik', 'continual', 'support', 'since', 'beginning', 'project', 'help', 'towards', 'familiarization', 'data', 'collection', 'instrumental', 'helping', 'contact', 'various', 'MCGM', 'departments', 'well', 'helping', 'establish', 'contact', 'personnel', 'government', 'departments', 'organizations', 'Many', 'thanks', 'MCGM', 'team', 'deploying', 'personnel', 'particularly', 'Mr.', 'Prasad', 'Gharat', 'extensive', 'field', 'visits', 'helped', 'understanding', 'actual', 'ground', 'conditions', '........................................................................................', '3', 'BEST', '...............................................................................................................................', '.................', '5', 'Brihanmumbai', 'Electric', 'Supply', 'Transport', 'Undertaking', '..............................................................', '5', 'CIDCO', '...............................................................................................................................', '..............', '5', 'City', 'Industrial', 'Development', 'Corporation', '...............................................................................', '5', 'CTP', '...............................................................................................................................', '..................', '5', 'Comprehensive', 'Transportation', 'Plan', '...............................................................................................', '5', 'DP', '...............................................................................................................................', '....................', '5', 'Development', 'Plan', '..........................................................................................................................', '5', 'DPGM34', '...............................................................................................................................', '..........', '5', 'Development', 'Plan', 'Greater', 'Mumbai', '2034', '.......................................................................................', '5', 'DCR', '...............................................................................................................................', '..................', '5', 'Development', 'Control', 'Regulations', '...................................................................................................', '5', 'DGPS', '...........................................................................................................................', '....................', '5', 'Digital', 'Global', 'Positioning', 'System', '...................................................................................................', '5', 'DPGM', '...............................................................................................................................', '..............', '5', 'Development', 'Plan', 'Greater', 'Mumbai', '...........................................................................................', '5', 'ELU', '...............................................................................................................................', '..................', '5', 'Existing', 'Land', 'use', '.............................................................................................................................', '5', 'FSI', '...............................................................................................................................', '....................', '5', 'Floor', 'Space', 'Index', '............................................................................................................................', '5', 'GIS', '...............................................................................................................................', '...................', '5']\n"
          ]
        },
        {
          "output_type": "stream",
          "name": "stderr",
          "text": [
            "[nltk_data] Downloading package punkt_tab to /root/nltk_data...\n",
            "[nltk_data]   Package punkt_tab is already up-to-date!\n"
          ]
        }
      ]
    },
    {
      "cell_type": "code",
      "source": [
        "name_list = list()\n",
        "check = ['Mr.', 'Mrs.', 'Ms.']\n",
        "for idx, token in enumerate(tokens):\n",
        "  if token.startswith(tuple(check)) and idx < (len(tokens)-1):\n",
        "    name = token + tokens[idx+1] +'' + tokens[idx+2]\n",
        "    name_list.append(name)\n",
        "\n",
        "print(name_list)"
      ],
      "metadata": {
        "colab": {
          "base_uri": "https://localhost:8080/"
        },
        "id": "MWc5KXH_W_LU",
        "outputId": "1f4ee04e-cc88-4c09-9a16-5ea7fba5cede"
      },
      "execution_count": 14,
      "outputs": [
        {
          "output_type": "stream",
          "name": "stdout",
          "text": [
            "['Mr.JagdishTalreja', 'Mr.DineshNaik', 'Mr.HirenDaftardar', 'Ms.AnitaNaik', 'Mr.PrasadGharat']\n"
          ]
        }
      ]
    },
    {
      "cell_type": "code",
      "source": [
        "!pip install python-docx"
      ],
      "metadata": {
        "colab": {
          "base_uri": "https://localhost:8080/"
        },
        "id": "LMjXvK-qY6ZT",
        "outputId": "6f5451c0-0ecc-4936-af17-9dcaa70fa261"
      },
      "execution_count": 16,
      "outputs": [
        {
          "output_type": "stream",
          "name": "stdout",
          "text": [
            "Collecting python-docx\n",
            "  Downloading python_docx-1.1.2-py3-none-any.whl.metadata (2.0 kB)\n",
            "Requirement already satisfied: lxml>=3.1.0 in /usr/local/lib/python3.11/dist-packages (from python-docx) (5.3.0)\n",
            "Requirement already satisfied: typing-extensions>=4.9.0 in /usr/local/lib/python3.11/dist-packages (from python-docx) (4.12.2)\n",
            "Downloading python_docx-1.1.2-py3-none-any.whl (244 kB)\n",
            "\u001b[?25l   \u001b[90m━━━━━━━━━━━━━━━━━━━━━━━━━━━━━━━━━━━━━━━━\u001b[0m \u001b[32m0.0/244.3 kB\u001b[0m \u001b[31m?\u001b[0m eta \u001b[36m-:--:--\u001b[0m\r\u001b[2K   \u001b[90m━━━━━━━━━━━━━━━━━━━━━━━━━━━━━━━━━━━━━━━━\u001b[0m \u001b[32m244.3/244.3 kB\u001b[0m \u001b[31m11.0 MB/s\u001b[0m eta \u001b[36m0:00:00\u001b[0m\n",
            "\u001b[?25hInstalling collected packages: python-docx\n",
            "Successfully installed python-docx-1.1.2\n"
          ]
        }
      ]
    },
    {
      "cell_type": "code",
      "source": [
        "import docx"
      ],
      "metadata": {
        "id": "UGOgslcqZxFn"
      },
      "execution_count": 18,
      "outputs": []
    },
    {
      "cell_type": "code",
      "source": [
        "doc = open(\"/content/DREAM_MARKETING[2].docx\",\"rb\")\n",
        "\n",
        "document = docx.Document(doc)"
      ],
      "metadata": {
        "id": "lqPMXpl7Z2KM"
      },
      "execution_count": 22,
      "outputs": []
    },
    {
      "cell_type": "code",
      "source": [
        "docu=\"\"\n",
        "for para in document. paragraphs:\n",
        "  docu += para. text\n",
        "print(docu)"
      ],
      "metadata": {
        "colab": {
          "base_uri": "https://localhost:8080/"
        },
        "id": "wSZ-mpTmaVqJ",
        "outputId": "dca93e00-4baf-4615-f564-53ca5bf3481f"
      },
      "execution_count": 23,
      "outputs": [
        {
          "output_type": "stream",
          "name": "stdout",
          "text": [
            "ABSTRACT Dream marketing, or inserting marketing information into people's dreams in order to influence behavior once awake, has both the potential to be a mighty and to raise huge ethical issues. This paper explores the technological, psychological, and ethical considerations of dream marketing by investigating how different forms of sensory stimuli may affect the content of dreams and consumer behavior. This research addresses the possibility of dream manipulation through controlled experiments and qualitative analyses with critical consciousness towards the ethical issues of informed consent, transparency, and autonomy. It establishes the framework for the ethical development of dream marketing and possible use in therapeutic settings.INTRODUCTION Dreams have been a popular source of fascination for centuries and are often viewed as a window into the unconscious mind. New developments in neuroscience have enabled controlling the content of a dream. Fields like marketing therefore witnessed a break. Dream marketing relates to an idea that associates a promotional message or commercial with dreams and influences attitudes or behavior by the time of waking up of the consumer. This paper relies on researchers' work like Moran Cerf who studied activity during sleep in the brain. This essay delves into the feasibility of dream marketing and the ethics issues concerning its application in consumer behavior. The study indicates how such technology can be used being sensitive to its ethics.LITERATURE REVIEW The study on dreams has seen much mileage from Freud's symbolical interpretation all the way through to a far more neuroscientific understanding of sleep. Modern research has shown that dream content can be manipulated through sensory stimuli, such as smells and sounds. However, its application in marketing is a rather unexplored area. The ethical issues here are autonomy, consent, and exploitation. This chapter is a consolidation of the relevant literature in neuroscience, psychology, and marketing that would place the current study within the context of dreaming manipulation and ethics.METHODOLOGY To jump in onto dream marketing, we employed a mixed approach:Experiments: Controlled experiments using EEG and EOG that recorded the sleep stages and presented stimuli during REM sleep.Examining whether olfactory, auditory, and tactile stimuli are able to modify the narratives of dreams and alter post-sleep behaviorsQualitative Analysis: Conduct interviews with participants through which their subjective experience in the process of dream manipulation can be elicited Conduct focus groups on opinion and ethical issues regarding dream marketing.\n",
            "Data GatheringData Gathering:Neural activity analysis and post-sleep surveys for assessing impact of dream interventions.Datasets regarding consumer behavior as well as neuroscience available for comparison.Ethical Precautions: Completed informed consent procedure and consultation with ethics experts ensured that participants' rights remained protected.RESULTS(HYPOTHETICAL):The preliminary analysis indicates that exteroceptive stimulus, especially, olfactory as well as acoustic stimuli are highly impactful on the content of dreams. The persons who got a positive stimulus were shown to associate the cue with positive opinions of the product, while those who received an unpleasant cue responded by showing aversions. Individual variation, in the form of personality traits as well as sleeping quality, has influenced the responses. These results indicate the possibility of dream marketing but at the same time suggest that strategies be tailored to reduce ethical risks and enhance effectiveness.WHAT IT ALL MEANS:The results indicate that dream marketing is a promising new advertising tool, but it is also highly challenging.\n",
            "Individuals' variability in responses indicates that there is no one-size-fits-all approach. Ethics over such issues as control and exploitation demand strict measures in the form of regulations and guardrails. The applications of dream control include positive uses of the technique. For instance, it can be used in therapy for mental diseases such as PTSD and phobias. Future work should focus on perfecting these techniques and monitoring long term effects to ensure better controlled dreaming for marketing.LOOKING AHEAD: The concept of dream marketing is new, where it gives a chance to the product to reach and connect directly with this unexplored inner experience. Therefore, innovation in this area must be pursued through strict ethics to avoid exploitation and protect individual autonomy. Future work in this area should be aimed at further developing it, other applications, and the relationships neuroscientists, marketers, ethicists, and policymakers may have with each other.REFERENCES:Cerf, M. (2019). Using neuroscience to measure brands. Wiley.Freud, S. (1900). The Interpretation of Dreams. Macmillan.Horikawa, T., Tamaki, M., Miyawaki, Y., & Kamitani, Y. (2013). Neural decoding of visual imagery during sleep. Science, 340(6132).\n",
            "Jung, C. G. (1936). The concept of the collective unconscious. Collected Works, 9(1).\n",
            "Schredl, M. et al. (2009). The impact of olfactory stimuli on the content of dream. Journal of Sleep Research, 18(3).\n",
            "Arzi, A., et al. (2014). Olfactory aversive conditioning during sleep reduces cigarette-smoking behavior. Journal of Neuroscience, 34(46).\n",
            "Stickgold, R., Zadra, A., & Haar, A. J. H. (2021). Advertising in dreams is coming: Now what? Nature Neuroscience.ETHICAL IMPLICATIONS:Informed Consent: Participants ought to be made aware of the nature and the potential effect of the study prior to enrollment.\n",
            "Autonomy: Prevent manipulative procedures that compromise decision-making abilities.\n",
            "\n",
            "Transparency: Clearly communicate to participants and the public the purpose and methods of the research.\n",
            "Long-term Monitoring: Assess potential psychological effects of dream manipulation over time.\n"
          ]
        }
      ]
    },
    {
      "cell_type": "code",
      "source": [
        "for i in range(len(document.paragraphs) ) :\n",
        "  print(\"The content of the paragraph \"+ str(i)+\" is : \" + document. paragraphs [i]. text+\"\\n\")"
      ],
      "metadata": {
        "colab": {
          "base_uri": "https://localhost:8080/"
        },
        "id": "ErxHJDE1a-cD",
        "outputId": "b4eed02c-970f-45d3-a821-2e6e50d1c2b2"
      },
      "execution_count": 24,
      "outputs": [
        {
          "output_type": "stream",
          "name": "stdout",
          "text": [
            "The content of the paragraph 0 is : ABSTRACT\n",
            "\n",
            "The content of the paragraph 1 is : \n",
            "\n",
            "The content of the paragraph 2 is :  Dream marketing, or inserting marketing information into people's dreams in order to influence behavior once awake, has both the potential to be a mighty and to raise huge ethical issues. This paper explores the technological, psychological, and ethical considerations of dream marketing by investigating how different forms of sensory stimuli may affect the content of dreams and consumer behavior. This research addresses the possibility of dream manipulation through controlled experiments and qualitative analyses with critical consciousness towards the ethical issues of informed consent, transparency, and autonomy. It establishes the framework for the ethical development of dream marketing and possible use in therapeutic settings.\n",
            "\n",
            "The content of the paragraph 3 is : INTRODUCTION\n",
            "\n",
            "The content of the paragraph 4 is : \n",
            "\n",
            "The content of the paragraph 5 is :  Dreams have been a popular source of fascination for centuries and are often viewed as a window into the unconscious mind. New developments in neuroscience have enabled controlling the content of a dream. Fields like marketing therefore witnessed a break. Dream marketing relates to an idea that associates a promotional message or commercial with dreams and influences attitudes or behavior by the time of waking up of the consumer. This paper relies on researchers' work like Moran Cerf who studied activity during sleep in the brain. This essay delves into the feasibility of dream marketing and the ethics issues concerning its application in consumer behavior. The study indicates how such technology can be used being sensitive to its ethics.\n",
            "\n",
            "The content of the paragraph 6 is : LITERATURE REVIEW\n",
            "\n",
            "The content of the paragraph 7 is :  The study on dreams has seen much mileage from Freud's symbolical interpretation all the way through to a far more neuroscientific understanding of sleep. Modern research has shown that dream content can be manipulated through sensory stimuli, such as smells and sounds. However, its application in marketing is a rather unexplored area. The ethical issues here are autonomy, consent, and exploitation. This chapter is a consolidation of the relevant literature in neuroscience, psychology, and marketing that would place the current study within the context of dreaming manipulation and ethics.\n",
            "\n",
            "The content of the paragraph 8 is : METHODOLOGY\n",
            "\n",
            "The content of the paragraph 9 is :  To jump in onto dream marketing, we employed a mixed approach:\n",
            "\n",
            "The content of the paragraph 10 is : Experiments:\n",
            "\n",
            "The content of the paragraph 11 is :  Controlled experiments using EEG and EOG that recorded the sleep stages and presented stimuli during REM sleep.\n",
            "\n",
            "The content of the paragraph 12 is : Examining whether olfactory, auditory, and tactile stimuli are able to modify the narratives of dreams and alter post-sleep behaviors\n",
            "\n",
            "The content of the paragraph 13 is : Qualitative Analysis:\n",
            "\n",
            "The content of the paragraph 14 is :  Conduct interviews with participants through which their subjective experience in the process of dream manipulation can be elicited\n",
            "\n",
            "The content of the paragraph 15 is :  Conduct focus groups on opinion and ethical issues regarding dream marketing.\n",
            "Data Gathering\n",
            "\n",
            "The content of the paragraph 16 is : Data Gathering:\n",
            "\n",
            "The content of the paragraph 17 is : Neural activity analysis and post-sleep surveys for assessing impact of dream interventions.\n",
            "\n",
            "The content of the paragraph 18 is : Datasets regarding consumer behavior as well as neuroscience available for comparison.\n",
            "\n",
            "The content of the paragraph 19 is : Ethical Precautions: \n",
            "\n",
            "The content of the paragraph 20 is : Completed informed consent procedure and consultation with ethics experts ensured that participants' rights remained protected.\n",
            "\n",
            "The content of the paragraph 21 is : \n",
            "\n",
            "The content of the paragraph 22 is : RESULTS(HYPOTHETICAL):\n",
            "\n",
            "The content of the paragraph 23 is : The preliminary analysis indicates that exteroceptive stimulus, especially, olfactory as well as acoustic stimuli are highly impactful on the content of dreams. The persons who got a positive stimulus were shown to associate the cue with positive opinions of the product, while those who received an unpleasant cue responded by showing aversions. Individual variation, in the form of personality traits as well as sleeping quality, has influenced the responses. These results indicate the possibility of dream marketing but at the same time suggest that strategies be tailored to reduce ethical risks and enhance effectiveness.\n",
            "\n",
            "The content of the paragraph 24 is : WHAT IT ALL MEANS:\n",
            "\n",
            "The content of the paragraph 25 is : The results indicate that dream marketing is a promising new advertising tool, but it is also highly challenging.\n",
            "Individuals' variability in responses indicates that there is no one-size-fits-all approach. Ethics over such issues as control and exploitation demand strict measures in the form of regulations and guardrails. The applications of dream control include positive uses of the technique. For instance, it can be used in therapy for mental diseases such as PTSD and phobias. Future work should focus on perfecting these techniques and monitoring long term effects to ensure better controlled dreaming for marketing.\n",
            "\n",
            "The content of the paragraph 26 is : LOOKING AHEAD:\n",
            "\n",
            "The content of the paragraph 27 is :  The concept of dream marketing is new, where it gives a chance to the product to reach and connect directly with this unexplored inner experience. Therefore, innovation in this area must be pursued through strict ethics to avoid exploitation and protect individual autonomy. Future work in this area should be aimed at further developing it, other applications, and the relationships neuroscientists, marketers, ethicists, and policymakers may have with each other.\n",
            "\n",
            "The content of the paragraph 28 is : REFERENCES:\n",
            "\n",
            "The content of the paragraph 29 is : Cerf, M. (2019). Using neuroscience to measure brands. \n",
            "\n",
            "The content of the paragraph 30 is : Wiley.Freud, S. (1900). The Interpretation of Dreams. \n",
            "\n",
            "The content of the paragraph 31 is : Macmillan.Horikawa, T., Tamaki, M., Miyawaki, Y., & Kamitani, Y. (2013). \n",
            "\n",
            "The content of the paragraph 32 is : Neural decoding of visual imagery during sleep. Science, 340(6132).\n",
            "Jung, C. G. (1936). The concept of the collective unconscious. Collected Works, 9(1).\n",
            "Schredl, M. et al. (2009). The impact of olfactory stimuli on the content of dream. Journal of Sleep Research, 18(3).\n",
            "Arzi, A., et al. (2014). Olfactory aversive conditioning during sleep reduces cigarette-smoking behavior. Journal of Neuroscience, 34(46).\n",
            "Stickgold, R., Zadra, A., & Haar, A. J. H. (2021). Advertising in dreams is coming: Now what? Nature Neuroscience.\n",
            "\n",
            "The content of the paragraph 33 is : \n",
            "\n",
            "The content of the paragraph 34 is : ETHICAL IMPLICATIONS:\n",
            "\n",
            "The content of the paragraph 35 is : Informed Consent: Participants ought to be made aware of the nature and the potential effect of the study prior to enrollment.\n",
            "Autonomy: Prevent manipulative procedures that compromise decision-making abilities.\n",
            "\n",
            "Transparency: Clearly communicate to participants and the public the purpose and methods of the research.\n",
            "Long-term Monitoring: Assess potential psychological effects of dream manipulation over time.\n",
            "\n"
          ]
        }
      ]
    },
    {
      "cell_type": "code",
      "source": [],
      "metadata": {
        "id": "kZePxohocgs-"
      },
      "execution_count": null,
      "outputs": []
    }
  ]
}