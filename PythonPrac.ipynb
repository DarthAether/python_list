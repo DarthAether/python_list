{
  "nbformat": 4,
  "nbformat_minor": 0,
  "metadata": {
    "colab": {
      "provenance": [],
      "authorship_tag": "ABX9TyMRQ/RS1dam1q90eWPUEbxe",
      "include_colab_link": true
    },
    "kernelspec": {
      "name": "python3",
      "display_name": "Python 3"
    },
    "language_info": {
      "name": "python"
    }
  },
  "cells": [
    {
      "cell_type": "markdown",
      "metadata": {
        "id": "view-in-github",
        "colab_type": "text"
      },
      "source": [
        "<a href=\"https://colab.research.google.com/github/DarthAether/python_list/blob/main/PythonPrac.ipynb\" target=\"_parent\"><img src=\"https://colab.research.google.com/assets/colab-badge.svg\" alt=\"Open In Colab\"/></a>"
      ]
    },
    {
      "cell_type": "markdown",
      "source": [
        "DAY1\n"
      ],
      "metadata": {
        "id": "JSUhZtiCwHPu"
      }
    },
    {
      "cell_type": "code",
      "source": [
        "#contigous subarray using kadanes algorithm\n",
        "def arrsum(arr):\n",
        "  glb_max = curr_max = arr[0]\n",
        "  for num in arr[1:]:\n",
        "    curr_max = max(num,curr_max+num)\n",
        "    if curr_max > glb_max:\n",
        "      glb_max = curr_max\n",
        "  return glb_max\n",
        "\n",
        "x = [1,2,2,3,4]\n",
        "print(arrsum(x))"
      ],
      "metadata": {
        "colab": {
          "base_uri": "https://localhost:8080/"
        },
        "id": "pgp4f7JiwJIf",
        "outputId": "447d9412-73b2-4899-c983-d88c1cee3392"
      },
      "execution_count": null,
      "outputs": [
        {
          "output_type": "stream",
          "name": "stdout",
          "text": [
            "12\n"
          ]
        }
      ]
    },
    {
      "cell_type": "code",
      "source": [
        "class Node:\n",
        "  def __init__(self,data):\n",
        "    self.data = data\n",
        "    self.next = None\n",
        "class LinkedList:\n",
        "  def __init__(self):\n",
        "    self.head = None\n",
        "\n",
        "  def append(self,data):\n",
        "    new_node = Node(data)\n",
        "    if not self.head:\n",
        "      self.head = new_node\n",
        "      return\n",
        "    last = self.head\n",
        "    while last.next:\n",
        "      last = last.next\n",
        "    last.next = new_node\n",
        "\n",
        "  def display(self):\n",
        "    current = self.head\n",
        "    while current:\n",
        "      print(current.data, end=\"->\")\n",
        "      current = current.next\n",
        "    print(\"None\")"
      ],
      "metadata": {
        "id": "J6vhOeNHwz_C"
      },
      "execution_count": null,
      "outputs": []
    },
    {
      "cell_type": "code",
      "source": [
        "ld = LinkedList()"
      ],
      "metadata": {
        "id": "O8vQEJJCJb4X"
      },
      "execution_count": null,
      "outputs": []
    },
    {
      "cell_type": "code",
      "source": [
        "ld.append(61)"
      ],
      "metadata": {
        "id": "F3vZGj5hJle5"
      },
      "execution_count": null,
      "outputs": []
    },
    {
      "cell_type": "code",
      "source": [
        "ld.display()"
      ],
      "metadata": {
        "colab": {
          "base_uri": "https://localhost:8080/"
        },
        "id": "e0u7BwCNJqX2",
        "outputId": "c0586ae4-cab1-4d6b-b786-3b71abb8524d"
      },
      "execution_count": null,
      "outputs": [
        {
          "output_type": "stream",
          "name": "stdout",
          "text": [
            "61->None\n"
          ]
        }
      ]
    },
    {
      "cell_type": "code",
      "source": [
        "!pip install spacy\n",
        "!pip install pdfminer.six\n"
      ],
      "metadata": {
        "id": "mnchkvnAJ3xd",
        "colab": {
          "base_uri": "https://localhost:8080/"
        },
        "outputId": "986eab12-f595-49ae-df11-e79c131f1a27"
      },
      "execution_count": null,
      "outputs": [
        {
          "output_type": "stream",
          "name": "stdout",
          "text": [
            "Requirement already satisfied: spacy in /usr/local/lib/python3.11/dist-packages (3.7.5)\n",
            "Requirement already satisfied: spacy-legacy<3.1.0,>=3.0.11 in /usr/local/lib/python3.11/dist-packages (from spacy) (3.0.12)\n",
            "Requirement already satisfied: spacy-loggers<2.0.0,>=1.0.0 in /usr/local/lib/python3.11/dist-packages (from spacy) (1.0.5)\n",
            "Requirement already satisfied: murmurhash<1.1.0,>=0.28.0 in /usr/local/lib/python3.11/dist-packages (from spacy) (1.0.12)\n",
            "Requirement already satisfied: cymem<2.1.0,>=2.0.2 in /usr/local/lib/python3.11/dist-packages (from spacy) (2.0.11)\n",
            "Requirement already satisfied: preshed<3.1.0,>=3.0.2 in /usr/local/lib/python3.11/dist-packages (from spacy) (3.0.9)\n",
            "Requirement already satisfied: thinc<8.3.0,>=8.2.2 in /usr/local/lib/python3.11/dist-packages (from spacy) (8.2.5)\n",
            "Requirement already satisfied: wasabi<1.2.0,>=0.9.1 in /usr/local/lib/python3.11/dist-packages (from spacy) (1.1.3)\n",
            "Requirement already satisfied: srsly<3.0.0,>=2.4.3 in /usr/local/lib/python3.11/dist-packages (from spacy) (2.5.1)\n",
            "Requirement already satisfied: catalogue<2.1.0,>=2.0.6 in /usr/local/lib/python3.11/dist-packages (from spacy) (2.0.10)\n",
            "Requirement already satisfied: weasel<0.5.0,>=0.1.0 in /usr/local/lib/python3.11/dist-packages (from spacy) (0.4.1)\n",
            "Requirement already satisfied: typer<1.0.0,>=0.3.0 in /usr/local/lib/python3.11/dist-packages (from spacy) (0.15.1)\n",
            "Requirement already satisfied: tqdm<5.0.0,>=4.38.0 in /usr/local/lib/python3.11/dist-packages (from spacy) (4.67.1)\n",
            "Requirement already satisfied: requests<3.0.0,>=2.13.0 in /usr/local/lib/python3.11/dist-packages (from spacy) (2.32.3)\n",
            "Requirement already satisfied: pydantic!=1.8,!=1.8.1,<3.0.0,>=1.7.4 in /usr/local/lib/python3.11/dist-packages (from spacy) (2.10.6)\n",
            "Requirement already satisfied: jinja2 in /usr/local/lib/python3.11/dist-packages (from spacy) (3.1.5)\n",
            "Requirement already satisfied: setuptools in /usr/local/lib/python3.11/dist-packages (from spacy) (75.1.0)\n",
            "Requirement already satisfied: packaging>=20.0 in /usr/local/lib/python3.11/dist-packages (from spacy) (24.2)\n",
            "Requirement already satisfied: langcodes<4.0.0,>=3.2.0 in /usr/local/lib/python3.11/dist-packages (from spacy) (3.5.0)\n",
            "Requirement already satisfied: numpy>=1.19.0 in /usr/local/lib/python3.11/dist-packages (from spacy) (1.26.4)\n",
            "Requirement already satisfied: language-data>=1.2 in /usr/local/lib/python3.11/dist-packages (from langcodes<4.0.0,>=3.2.0->spacy) (1.3.0)\n",
            "Requirement already satisfied: annotated-types>=0.6.0 in /usr/local/lib/python3.11/dist-packages (from pydantic!=1.8,!=1.8.1,<3.0.0,>=1.7.4->spacy) (0.7.0)\n",
            "Requirement already satisfied: pydantic-core==2.27.2 in /usr/local/lib/python3.11/dist-packages (from pydantic!=1.8,!=1.8.1,<3.0.0,>=1.7.4->spacy) (2.27.2)\n",
            "Requirement already satisfied: typing-extensions>=4.12.2 in /usr/local/lib/python3.11/dist-packages (from pydantic!=1.8,!=1.8.1,<3.0.0,>=1.7.4->spacy) (4.12.2)\n",
            "Requirement already satisfied: charset-normalizer<4,>=2 in /usr/local/lib/python3.11/dist-packages (from requests<3.0.0,>=2.13.0->spacy) (3.4.1)\n",
            "Requirement already satisfied: idna<4,>=2.5 in /usr/local/lib/python3.11/dist-packages (from requests<3.0.0,>=2.13.0->spacy) (3.10)\n",
            "Requirement already satisfied: urllib3<3,>=1.21.1 in /usr/local/lib/python3.11/dist-packages (from requests<3.0.0,>=2.13.0->spacy) (2.3.0)\n",
            "Requirement already satisfied: certifi>=2017.4.17 in /usr/local/lib/python3.11/dist-packages (from requests<3.0.0,>=2.13.0->spacy) (2025.1.31)\n",
            "Requirement already satisfied: blis<0.8.0,>=0.7.8 in /usr/local/lib/python3.11/dist-packages (from thinc<8.3.0,>=8.2.2->spacy) (0.7.11)\n",
            "Requirement already satisfied: confection<1.0.0,>=0.0.1 in /usr/local/lib/python3.11/dist-packages (from thinc<8.3.0,>=8.2.2->spacy) (0.1.5)\n",
            "Requirement already satisfied: click>=8.0.0 in /usr/local/lib/python3.11/dist-packages (from typer<1.0.0,>=0.3.0->spacy) (8.1.8)\n",
            "Requirement already satisfied: shellingham>=1.3.0 in /usr/local/lib/python3.11/dist-packages (from typer<1.0.0,>=0.3.0->spacy) (1.5.4)\n",
            "Requirement already satisfied: rich>=10.11.0 in /usr/local/lib/python3.11/dist-packages (from typer<1.0.0,>=0.3.0->spacy) (13.9.4)\n",
            "Requirement already satisfied: cloudpathlib<1.0.0,>=0.7.0 in /usr/local/lib/python3.11/dist-packages (from weasel<0.5.0,>=0.1.0->spacy) (0.20.0)\n",
            "Requirement already satisfied: smart-open<8.0.0,>=5.2.1 in /usr/local/lib/python3.11/dist-packages (from weasel<0.5.0,>=0.1.0->spacy) (7.1.0)\n",
            "Requirement already satisfied: MarkupSafe>=2.0 in /usr/local/lib/python3.11/dist-packages (from jinja2->spacy) (3.0.2)\n",
            "Requirement already satisfied: marisa-trie>=1.1.0 in /usr/local/lib/python3.11/dist-packages (from language-data>=1.2->langcodes<4.0.0,>=3.2.0->spacy) (1.2.1)\n",
            "Requirement already satisfied: markdown-it-py>=2.2.0 in /usr/local/lib/python3.11/dist-packages (from rich>=10.11.0->typer<1.0.0,>=0.3.0->spacy) (3.0.0)\n",
            "Requirement already satisfied: pygments<3.0.0,>=2.13.0 in /usr/local/lib/python3.11/dist-packages (from rich>=10.11.0->typer<1.0.0,>=0.3.0->spacy) (2.18.0)\n",
            "Requirement already satisfied: wrapt in /usr/local/lib/python3.11/dist-packages (from smart-open<8.0.0,>=5.2.1->weasel<0.5.0,>=0.1.0->spacy) (1.17.2)\n",
            "Requirement already satisfied: mdurl~=0.1 in /usr/local/lib/python3.11/dist-packages (from markdown-it-py>=2.2.0->rich>=10.11.0->typer<1.0.0,>=0.3.0->spacy) (0.1.2)\n",
            "Collecting pdfminer.six\n",
            "  Downloading pdfminer.six-20240706-py3-none-any.whl.metadata (4.1 kB)\n",
            "Requirement already satisfied: charset-normalizer>=2.0.0 in /usr/local/lib/python3.11/dist-packages (from pdfminer.six) (3.4.1)\n",
            "Requirement already satisfied: cryptography>=36.0.0 in /usr/local/lib/python3.11/dist-packages (from pdfminer.six) (43.0.3)\n",
            "Requirement already satisfied: cffi>=1.12 in /usr/local/lib/python3.11/dist-packages (from cryptography>=36.0.0->pdfminer.six) (1.17.1)\n",
            "Requirement already satisfied: pycparser in /usr/local/lib/python3.11/dist-packages (from cffi>=1.12->cryptography>=36.0.0->pdfminer.six) (2.22)\n",
            "Downloading pdfminer.six-20240706-py3-none-any.whl (5.6 MB)\n",
            "\u001b[2K   \u001b[90m━━━━━━━━━━━━━━━━━━━━━━━━━━━━━━━━━━━━━━━━\u001b[0m \u001b[32m5.6/5.6 MB\u001b[0m \u001b[31m38.6 MB/s\u001b[0m eta \u001b[36m0:00:00\u001b[0m\n",
            "\u001b[?25hInstalling collected packages: pdfminer.six\n",
            "Successfully installed pdfminer.six-20240706\n"
          ]
        }
      ]
    },
    {
      "cell_type": "code",
      "source": [
        "text = 'mrttaqrhknsw ih puggrur'\n",
        "custom_key = 'happycoding'\n",
        "\n",
        "def vigenere(message, key, direction=1):\n",
        "    key_index = 0\n",
        "    alphabet = 'abcdefghijklmnopqrstuvwxyz'\n",
        "    final_message = ''\n",
        "\n",
        "    for char in message.lower():\n",
        "\n",
        "        # Append any non-letter character to the message\n",
        "        if not char.isalpha():\n",
        "            final_message += char\n",
        "        else:\n",
        "            # Find the right key character to encode/decode\n",
        "            key_char = key[key_index % len(key)]\n",
        "            key_index += 1\n",
        "\n",
        "            # Define the offset and the encrypted/decrypted letter\n",
        "            offset = alphabet.index(key_char)\n",
        "            index = alphabet.find(char)\n",
        "            new_index = (index + offset*direction) % len(alphabet)\n",
        "            final_message += alphabet[new_index]\n",
        "\n",
        "    return final_message\n",
        "\n",
        "def encrypt(message, key):\n",
        "    return vigenere(message, key)\n",
        "\n",
        "def decrypt(message, key):\n",
        "    return vigenere(message, key, -1)\n",
        "\n",
        "print(f'\\nEncrypted text: {text}')\n",
        "print(f'Key: {custom_key}')\n",
        "decryption = decrypt(text, custom_key)\n",
        "print(f'\\nDecrypted text: {decryption}\\n')"
      ],
      "metadata": {
        "id": "OD8HzanMPznt",
        "colab": {
          "base_uri": "https://localhost:8080/"
        },
        "outputId": "4cfdda30-7b38-4555-b2bc-ce92d19eff27"
      },
      "execution_count": null,
      "outputs": [
        {
          "output_type": "stream",
          "name": "stdout",
          "text": [
            "\n",
            "Encrypted text: mrttaqrhknsw ih puggrur\n",
            "Key: happycoding\n",
            "\n",
            "Decrypted text: freecodecamp is awesome\n",
            "\n"
          ]
        }
      ]
    },
    {
      "cell_type": "code",
      "source": [
        "text = input(\"Enter your text: \")\n",
        "custom_key = input(\"\\nEnter your key: \")\n",
        "\n",
        "def vigenere(message, key, direction = 1):\n",
        "  key_index = 0\n",
        "  alphabet = 'abcdefghijklmnopqrstuvwxyz'\n",
        "  final_message = ''\n",
        "  for char in message.lower():\n",
        "    key = key.lower()\n",
        "    if not char.isalpha():\n",
        "      final_message += char\n",
        "    else:\n",
        "      key_char = key[key_index % len(key)]\n",
        "      key_index += 1\n",
        "      offset = alphabet.index(key_char)\n",
        "      index = alphabet.find(char)\n",
        "      new_index = (index + offset*direction) % len(alphabet)\n",
        "      final_message += alphabet[new_index]\n",
        "  return final_message\n",
        "\n",
        "def encrypt(text, custom_key):\n",
        "  return vigenere(text,custom_key)\n",
        "def decrypt(text, custom_key):\n",
        "  return vigenere(text,custom_key,-1)\n",
        "x = input(\"Which Function Do you choose:\\n 1)Encryption type 'e'\\n 2)Decryption type 'd'\\n\")\n",
        "if x == 'e':\n",
        "  print(f'Encrypted text: {encrypt(text,custom_key)}')\n",
        "elif x == 'd':\n",
        "  print(f'Decrypted text: {decrypt(text,custom_key)}')\n",
        "\n",
        "#vvjnwa svvnljaa kbkmuei\n",
        "#ananya"
      ],
      "metadata": {
        "colab": {
          "base_uri": "https://localhost:8080/"
        },
        "id": "rwS0FnTCuljG",
        "outputId": "2fa6e626-f12f-439e-9923-cbeddd5a1c2b"
      },
      "execution_count": null,
      "outputs": [
        {
          "output_type": "stream",
          "name": "stdout",
          "text": [
            "Enter your text: vvjnwa svvnljaa kbkmuei\n",
            "\n",
            "Enter your key: ananya\n",
            "Which Function Do you choose:\n",
            " 1)Encryption type 'e'\n",
            " 2)Decryption type 'd'\n",
            "d\n",
            "Decrypted text: vijaya sivanjan kommuri\n"
          ]
        }
      ]
    },
    {
      "cell_type": "code",
      "source": [
        "x = 'vijay'\n",
        "y = x[::-1]\n",
        "print(y)"
      ],
      "metadata": {
        "colab": {
          "base_uri": "https://localhost:8080/"
        },
        "id": "GZd2VwNsGm0J",
        "outputId": "72e1d0ac-29b8-41b0-d8da-2a1b5ba27b0e"
      },
      "execution_count": 1,
      "outputs": [
        {
          "output_type": "stream",
          "name": "stdout",
          "text": [
            "yajiv\n"
          ]
        }
      ]
    },
    {
      "cell_type": "code",
      "source": [
        "def verify_card_number(card):\n",
        "  sum_of_even_digits = 0\n",
        "  sum_of_odd_digits = 0\n",
        "  card_translate = str.maketrans({'-': '',' ': ''})\n",
        "  card = card.translate(card_translate)\n",
        "  reversed_card = card[::-1]\n",
        "  even_digits = reversed_card[1::2]\n",
        "  odd_digits = reversed_card[::2]\n",
        "  print(even_digits)\n",
        "  print(odd_digits)\n",
        "  for digit in even_digits:\n",
        "    number = int(digit)*2\n",
        "    if number >= 10:\n",
        "      number = (number // 10) + (number % 10)\n",
        "    sum_of_even_digits += number\n",
        "  for digit in odd_digits:\n",
        "    sum_of_odd_digits += int(digit)\n",
        "  total = sum_of_even_digits + sum_of_odd_digits\n",
        "  return 0 == total %10\n",
        "\n",
        "card = '4111-1111-4555-111'\n",
        "if verify_card_number(card):\n",
        "  print('VALID')\n",
        "else:\n",
        "  print('INVALID')"
      ],
      "metadata": {
        "colab": {
          "base_uri": "https://localhost:8080/"
        },
        "id": "AJOVLzGGIohO",
        "outputId": "28d97dcf-0779-4d69-9594-415a307171fe"
      },
      "execution_count": 12,
      "outputs": [
        {
          "output_type": "stream",
          "name": "stdout",
          "text": [
            "1541114\n",
            "1151111\n",
            "INVALID\n"
          ]
        }
      ]
    }
  ]
}